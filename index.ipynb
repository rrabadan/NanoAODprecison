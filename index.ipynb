{
 "cells": [
  {
   "cell_type": "markdown",
   "id": "3dfb3dfd",
   "metadata": {
    "slideshow": {
     "slide_type": "slide"
    }
   },
   "source": [
    "# NanoAOD precision checks"
   ]
  },
  {
   "cell_type": "markdown",
   "id": "d0a660db",
   "metadata": {
    "slideshow": {
     "slide_type": "subslide"
    }
   },
   "source": [
    "> “Many variables are stored with limited precision (i.e. less than 32bits float) by zeroing a given number of bits in the float mantissa (this results in a higher compression when stored on disk).\"\n",
    "\n",
    "* Get gen kinematic information from MiniAOD and compared with gen information stored in NanoAOD events.\n",
    "  - Using [/GluGluToRadionToHHTo2B2WToLNu2J_M-250_narrow_13TeV-madgraph/RunIISummer16MiniAODv3-PUMoriond17_94X_mcRun2_asymptotic_v3-v2/MINIAODSIM](https://cmsweb.cern.ch/das/request?instance=prod/global&input=file+dataset%3D%2FGluGluToRadionToHHTo2B2WToLNu2J_M-250_narrow_13TeV-madgraph%2FRunIISummer16MiniAODv3-PUMoriond17_94X_mcRun2_asymptotic_v3-v2%2FMINIAODSIM)\n",
    "  - Dedicated (very simple) analyzer -->  produces tree with $H \\to h(b\\bar{b})h(WW^{*})$ gen kinematics.\n",
    "  - NanoAOD from MiniAOD using \"official\" configuration using cmsDriver \n",
    "  - No \"postprocessing\" of NanoAOD tuple to avoid any potential errors."
   ]
  },
  {
   "cell_type": "markdown",
   "id": "bfdb7f9a",
   "metadata": {
    "slideshow": {
     "slide_type": "slide"
    }
   },
   "source": [
    "# Gen Particles in MiniAOD"
   ]
  },
  {
   "cell_type": "markdown",
   "id": "c4146dfb",
   "metadata": {
    "slideshow": {
     "slide_type": "subslide"
    }
   },
   "source": [
    "* `prunedGenParticles`\n",
    "  - only a subset (about 50-100 per event) of the gen particle are stored\n",
    "  - keep the most important information [prunedGenParticles_cfi.py](https://gitlab.cern.ch/cms-sw/cmssw/-/blob/master/PhysicsTools/PatAlgos/python/slimming/prunedGenParticles_cfi.py)\n",
    "\n",
    "```python\n",
    "prunedGenParticles = cms.EDProducer(\"GenParticlePruner\",\n",
    "    src = cms.InputTag(\"genParticles\"),\n",
    "    select = cms.vstring(\n",
    "        \"drop  *\", # this is the default\n",
    "        \"++keep abs(pdgId) == 11 || abs(pdgId) == 13 || abs(pdgId) == 15\",# keep leptons, with history\n",
    "        \"drop   status == 2\",                                             # drop the shower part of the history\n",
    "        \"keep abs(pdgId) == 11 || abs(pdgId) == 13 || abs(pdgId) == 15\",  # keep leptons (also status1)\n",
    "        \"keep abs(pdgId) == 12 || abs(pdgId) == 14 || abs(pdgId) == 16\",  # keep neutrinos\n",
    "        \"+keep pdgId == 22 && status == 1 && (pt > 10 || isPromptFinalState())\", # keep gamma above 10 GeV (or all prompt) and its first parent\n",
    "        \"+keep abs(pdgId) == 11 && status == 1 && (pt > 3 || isPromptFinalState())\", # keep first parent of electrons above 3 GeV (or prompt)\n",
    "        \"keep++ abs(pdgId) == 15\",                # but keep keep taus with decays\n",
    "\t    \"drop  status > 30 && status < 70 \", \t  # remove pythia8 garbage\n",
    "\t    \"drop  pdgId == 21 && pt < 5\",            # remove pythia8 garbage\n",
    "        \"drop   status == 2 && abs(pdgId) == 21\", # but remove again gluons in the inheritance chain\n",
    "        \"keep abs(pdgId)==23 || abs(pdgId)==24 || abs(pdgId)==25 || abs(pdgId)==6 || abs(pdgId)==37 \",\n",
    "  ...\n",
    "```"
   ]
  },
  {
   "cell_type": "markdown",
   "id": "b064076e",
   "metadata": {
    "slideshow": {
     "slide_type": "slide"
    }
   },
   "source": [
    "# Gen Particles in NanoAOD"
   ]
  },
  {
   "cell_type": "markdown",
   "id": "0763680b",
   "metadata": {
    "slideshow": {
     "slide_type": "subslide"
    }
   },
   "source": [
    "configuration fragment: [PhysicsTools.NanoAOD.common_cff](https://gitlab.cern.ch/cms-sw/cmssw/-/blob/master/PhysicsTools/NanoAOD/python/genparticles_cff.py)\n",
    "\n",
    "* Built from `prunedGenParticles`\n",
    "  - Additional filters\n",
    "  - limited precision nbits = 8\n",
    "  \n",
    "```python\n",
    "##################### Tables for final output and docs ##########################\n",
    "genParticleTable = cms.EDProducer(\"SimpleCandidateFlatTableProducer\",\n",
    "    src = cms.InputTag(\"finalGenParticles\"),\n",
    "    cut = cms.string(\"\"), #we should not filter after pruning\n",
    "    name= cms.string(\"GenPart\"),\n",
    "    doc = cms.string(\"interesting gen particles \"),\n",
    "    singleton = cms.bool(False), # the number of entries is variable\n",
    "    extension = cms.bool(False), # this is the main table for the taus\n",
    "    variables = cms.PSet(\n",
    "         pt  = Var(\"pt\",  float, precision=8),\n",
    "         phi = Var(\"phi\", float,precision=8),\n",
    "         eta  = Var(\"eta\",  float,precision=8),\n",
    "    ...\n",
    "    )\n",
    ")\n",
    "```"
   ]
  },
  {
   "cell_type": "markdown",
   "id": "a2a100aa",
   "metadata": {
    "slideshow": {
     "slide_type": "slide"
    }
   },
   "source": [
    "# MiniAOD Analyzer"
   ]
  },
  {
   "cell_type": "markdown",
   "id": "b189d801",
   "metadata": {
    "slideshow": {
     "slide_type": "subslide"
    }
   },
   "source": [
    "* Saves kinematics of $h^{0}$, $b$ quarks, and $W$ bosons.\n",
    "\n",
    "```c\n",
    "   // Pruned collection contains most important information of the event\n",
    "   Handle<edm::View<reco::GenParticle> > pruned;\n",
    "   iEvent.getByToken(prunedGenToken_, pruned);\n",
    "\n",
    "   // Packed partcles are all status 1.\n",
    "   Handle<edm::View<pat::PackedGenParticle> > packed;\n",
    "   iEvent.getByToken(packedGenToken_, packed);\n",
    "\n",
    "   std::vector<const Candidate*> higgses;\n",
    "   std::vector<const Candidate*> bquarks;\n",
    "   std::vector<const Candidate*> wbosons;\n",
    "\n",
    "   for(size_t i=0; i<pruned->size(); ++i){\n",
    "      const Candidate * gencand = &(*pruned)[i];\n",
    "      if(gencand->pdgId()==25 && gencand->mother(0)->pdgId()==35)\n",
    "         higgses.push_back(gencand);\n",
    "      else if(abs(gencand->pdgId())==5 && gencand->mother(0)->pdgId()==25)\n",
    "         bquarks.push_back(gencand);\n",
    "      else if(abs(gencand->pdgId())==24 && gencand->mother(0)->pdgId()==25)\n",
    "         wbosons.push_back(gencand);\n",
    "      else\n",
    "         continue;\n",
    "         //std::cout << gencand->pdgId() << \" \" << gencand->status() << \" \" << gencand->mother(0)->pdgId() <<std::endl;\n",
    "   }\n",
    "```"
   ]
  },
  {
   "cell_type": "code",
   "execution_count": 9,
   "id": "038c6543",
   "metadata": {
    "slideshow": {
     "slide_type": "skip"
    }
   },
   "outputs": [],
   "source": [
    "import os\n",
    "import uproot\n",
    "import numpy as np\n",
    "import pandas as pd\n",
    "import awkward as ak\n",
    "import numba as nb"
   ]
  },
  {
   "cell_type": "code",
   "execution_count": 10,
   "id": "9acba55f",
   "metadata": {
    "slideshow": {
     "slide_type": "skip"
    }
   },
   "outputs": [],
   "source": [
    "nanotree = uproot.open(\"CMSSW_10_2_26/src/HhhAnalysis/GenAnalyzer/test/radion_250_NANO.root:Events\")\n",
    "nanotree1 = uproot.open(\"CMSSW_10_2_26/src/HhhAnalysis/GenAnalyzer/test/radion_250_NANO-1.root:Events\")\n",
    "mytree = uproot.open(\"CMSSW_10_2_26/src/HhhAnalysis/GenAnalyzer/test/genBBWW.root:genbbww/Events\")"
   ]
  },
  {
   "cell_type": "markdown",
   "id": "50e92940",
   "metadata": {
    "slideshow": {
     "slide_type": "slide"
    }
   },
   "source": [
    "# Filtering NanoAOD Gen Particles\n",
    "\n",
    "* Only Gen branches"
   ]
  },
  {
   "cell_type": "code",
   "execution_count": 5,
   "id": "d2bcdf07",
   "metadata": {
    "slideshow": {
     "slide_type": "subslide"
    }
   },
   "outputs": [
    {
     "data": {
      "text/plain": [
       "['GenPart_eta',\n",
       " 'GenPart_mass',\n",
       " 'GenPart_phi',\n",
       " 'GenPart_pt',\n",
       " 'GenPart_genPartIdxMother',\n",
       " 'GenPart_pdgId',\n",
       " 'GenPart_status',\n",
       " 'GenPart_statusFlags']"
      ]
     },
     "execution_count": 5,
     "metadata": {},
     "output_type": "execute_result"
    }
   ],
   "source": [
    "nano = nanotree.arrays(filter_name=\"GenPart*\")\n",
    "nano.fields"
   ]
  },
  {
   "cell_type": "markdown",
   "id": "2688ac28",
   "metadata": {
    "slideshow": {
     "slide_type": "subslide"
    }
   },
   "source": [
    "* Find b quarks from $h^0$"
   ]
  },
  {
   "cell_type": "code",
   "execution_count": 12,
   "id": "fca8b7df",
   "metadata": {
    "slideshow": {
     "slide_type": "subslide"
    }
   },
   "outputs": [],
   "source": [
    "cut_b = (np.abs(nano.GenPart_pdgId) == 5)\n",
    "mother_b = nano.GenPart_genPartIdxMother[cut_b]\n",
    "cut_mother_b = (nano.GenPart_pdgId[mother_b] == 25)"
   ]
  },
  {
   "cell_type": "code",
   "execution_count": 16,
   "id": "35bd8e8f",
   "metadata": {
    "slideshow": {
     "slide_type": "subslide"
    }
   },
   "outputs": [
    {
     "data": {
      "text/plain": [
       "<Array [[5, -5], [5, -5], ... [5, -5], [5, -5]] type='38740 * var * int32'>"
      ]
     },
     "execution_count": 16,
     "metadata": {},
     "output_type": "execute_result"
    }
   ],
   "source": [
    "b_only = nano[cut_b][cut_mother_b]\n",
    "b_only.GenPart_pdgId"
   ]
  },
  {
   "cell_type": "code",
   "execution_count": 25,
   "id": "87f181a9",
   "metadata": {
    "slideshow": {
     "slide_type": "skip"
    }
   },
   "outputs": [],
   "source": [
    "mydict = {\n",
    "    \"event\": nanotree.arrays(\"event\", library=\"np\")[\"event\"],\n",
    "    \"b1_pt\": ak.to_numpy(b_only.GenPart_pt[:,0]),\n",
    "    \"b1_eta\": ak.to_numpy(b_only.GenPart_eta[:,0]),\n",
    "    \"b1_phi\": ak.to_numpy(b_only.GenPart_phi[:,0]),\n",
    "    \"b2_pt\": ak.to_numpy(b_only.GenPart_pt[:,1]),\n",
    "    \"b2_eta\": ak.to_numpy(b_only.GenPart_eta[:,1]),\n",
    "    \"b2_phi\": ak.to_numpy(b_only.GenPart_phi[:,1])\n",
    "}"
   ]
  },
  {
   "cell_type": "code",
   "execution_count": 26,
   "id": "cf71c7de",
   "metadata": {
    "slideshow": {
     "slide_type": "skip"
    }
   },
   "outputs": [],
   "source": [
    "df =  pd.DataFrame.from_dict(mydict)"
   ]
  },
  {
   "cell_type": "code",
   "execution_count": 28,
   "id": "1e723015",
   "metadata": {
    "slideshow": {
     "slide_type": "skip"
    }
   },
   "outputs": [],
   "source": [
    "branches = [\"event\", \"b1_pt\", \"b1_eta\", \"b1_phi\", \"b2_pt\", \"b2_eta\", \"b2_phi\"]\n",
    "genpart_mini = mytree.arrays(branches, library=\"pd\")"
   ]
  },
  {
   "cell_type": "markdown",
   "id": "b413a5a9",
   "metadata": {
    "slideshow": {
     "slide_type": "slide"
    }
   },
   "source": [
    "# Compare event by event"
   ]
  },
  {
   "cell_type": "markdown",
   "id": "2551fbb3",
   "metadata": {
    "slideshow": {
     "slide_type": "fragment"
    }
   },
   "source": [
    "## NanoAOD"
   ]
  },
  {
   "cell_type": "code",
   "execution_count": 40,
   "id": "9bafbbfb",
   "metadata": {
    "slideshow": {
     "slide_type": "fragment"
    }
   },
   "outputs": [
    {
     "data": {
      "text/html": [
       "<div>\n",
       "<style scoped>\n",
       "    .dataframe tbody tr th:only-of-type {\n",
       "        vertical-align: middle;\n",
       "    }\n",
       "\n",
       "    .dataframe tbody tr th {\n",
       "        vertical-align: top;\n",
       "    }\n",
       "\n",
       "    .dataframe thead th {\n",
       "        text-align: right;\n",
       "    }\n",
       "</style>\n",
       "<table border=\"1\" class=\"dataframe\">\n",
       "  <thead>\n",
       "    <tr style=\"text-align: right;\">\n",
       "      <th></th>\n",
       "      <th>event</th>\n",
       "      <th>b1_pt</th>\n",
       "      <th>b1_eta</th>\n",
       "      <th>b1_phi</th>\n",
       "      <th>b2_pt</th>\n",
       "      <th>b2_eta</th>\n",
       "      <th>b2_phi</th>\n",
       "    </tr>\n",
       "  </thead>\n",
       "  <tbody>\n",
       "    <tr>\n",
       "      <th>13</th>\n",
       "      <td>67349</td>\n",
       "      <td>59.125</td>\n",
       "      <td>1.574219</td>\n",
       "      <td>2.375000</td>\n",
       "      <td>124.750</td>\n",
       "      <td>1.390625</td>\n",
       "      <td>0.769531</td>\n",
       "    </tr>\n",
       "    <tr>\n",
       "      <th>1</th>\n",
       "      <td>67350</td>\n",
       "      <td>53.375</td>\n",
       "      <td>1.347656</td>\n",
       "      <td>1.300781</td>\n",
       "      <td>63.250</td>\n",
       "      <td>0.578125</td>\n",
       "      <td>-1.964844</td>\n",
       "    </tr>\n",
       "    <tr>\n",
       "      <th>5</th>\n",
       "      <td>67351</td>\n",
       "      <td>67.750</td>\n",
       "      <td>-0.475586</td>\n",
       "      <td>1.687500</td>\n",
       "      <td>57.625</td>\n",
       "      <td>-0.605469</td>\n",
       "      <td>-1.273438</td>\n",
       "    </tr>\n",
       "    <tr>\n",
       "      <th>6</th>\n",
       "      <td>67352</td>\n",
       "      <td>58.625</td>\n",
       "      <td>1.238281</td>\n",
       "      <td>-1.023438</td>\n",
       "      <td>77.000</td>\n",
       "      <td>0.773438</td>\n",
       "      <td>3.039062</td>\n",
       "    </tr>\n",
       "    <tr>\n",
       "      <th>4</th>\n",
       "      <td>67353</td>\n",
       "      <td>56.500</td>\n",
       "      <td>-1.359375</td>\n",
       "      <td>-0.560547</td>\n",
       "      <td>62.875</td>\n",
       "      <td>-0.757812</td>\n",
       "      <td>2.578125</td>\n",
       "    </tr>\n",
       "  </tbody>\n",
       "</table>\n",
       "</div>"
      ],
      "text/plain": [
       "    event   b1_pt    b1_eta    b1_phi    b2_pt    b2_eta    b2_phi\n",
       "13  67349  59.125  1.574219  2.375000  124.750  1.390625  0.769531\n",
       "1   67350  53.375  1.347656  1.300781   63.250  0.578125 -1.964844\n",
       "5   67351  67.750 -0.475586  1.687500   57.625 -0.605469 -1.273438\n",
       "6   67352  58.625  1.238281 -1.023438   77.000  0.773438  3.039062\n",
       "4   67353  56.500 -1.359375 -0.560547   62.875 -0.757812  2.578125"
      ]
     },
     "execution_count": 40,
     "metadata": {},
     "output_type": "execute_result"
    }
   ],
   "source": [
    "df.sort_values(by=['event']).head(5)"
   ]
  },
  {
   "cell_type": "markdown",
   "id": "801f2b14",
   "metadata": {
    "slideshow": {
     "slide_type": "fragment"
    }
   },
   "source": [
    "## MiniAOD"
   ]
  },
  {
   "cell_type": "code",
   "execution_count": 41,
   "id": "ab612029",
   "metadata": {
    "slideshow": {
     "slide_type": "fragment"
    }
   },
   "outputs": [
    {
     "data": {
      "text/html": [
       "<div>\n",
       "<style scoped>\n",
       "    .dataframe tbody tr th:only-of-type {\n",
       "        vertical-align: middle;\n",
       "    }\n",
       "\n",
       "    .dataframe tbody tr th {\n",
       "        vertical-align: top;\n",
       "    }\n",
       "\n",
       "    .dataframe thead th {\n",
       "        text-align: right;\n",
       "    }\n",
       "</style>\n",
       "<table border=\"1\" class=\"dataframe\">\n",
       "  <thead>\n",
       "    <tr style=\"text-align: right;\">\n",
       "      <th></th>\n",
       "      <th>event</th>\n",
       "      <th>b1_pt</th>\n",
       "      <th>b1_eta</th>\n",
       "      <th>b1_phi</th>\n",
       "      <th>b2_pt</th>\n",
       "      <th>b2_eta</th>\n",
       "      <th>b2_phi</th>\n",
       "    </tr>\n",
       "  </thead>\n",
       "  <tbody>\n",
       "    <tr>\n",
       "      <th>9</th>\n",
       "      <td>67349</td>\n",
       "      <td>59.162838</td>\n",
       "      <td>1.574972</td>\n",
       "      <td>2.373825</td>\n",
       "      <td>124.764183</td>\n",
       "      <td>1.388719</td>\n",
       "      <td>0.768793</td>\n",
       "    </tr>\n",
       "    <tr>\n",
       "      <th>0</th>\n",
       "      <td>67350</td>\n",
       "      <td>53.312710</td>\n",
       "      <td>1.348135</td>\n",
       "      <td>1.301964</td>\n",
       "      <td>63.249348</td>\n",
       "      <td>0.579030</td>\n",
       "      <td>-1.965756</td>\n",
       "    </tr>\n",
       "    <tr>\n",
       "      <th>4</th>\n",
       "      <td>67351</td>\n",
       "      <td>67.696457</td>\n",
       "      <td>-0.475685</td>\n",
       "      <td>1.686518</td>\n",
       "      <td>57.592220</td>\n",
       "      <td>-0.605304</td>\n",
       "      <td>-1.273538</td>\n",
       "    </tr>\n",
       "    <tr>\n",
       "      <th>6</th>\n",
       "      <td>67352</td>\n",
       "      <td>58.662441</td>\n",
       "      <td>1.239945</td>\n",
       "      <td>-1.022804</td>\n",
       "      <td>77.032257</td>\n",
       "      <td>0.774000</td>\n",
       "      <td>3.035913</td>\n",
       "    </tr>\n",
       "    <tr>\n",
       "      <th>5</th>\n",
       "      <td>67353</td>\n",
       "      <td>56.497955</td>\n",
       "      <td>-1.359893</td>\n",
       "      <td>-0.560886</td>\n",
       "      <td>62.832787</td>\n",
       "      <td>-0.756951</td>\n",
       "      <td>2.579374</td>\n",
       "    </tr>\n",
       "  </tbody>\n",
       "</table>\n",
       "</div>"
      ],
      "text/plain": [
       "   event      b1_pt    b1_eta    b1_phi       b2_pt    b2_eta    b2_phi\n",
       "9  67349  59.162838  1.574972  2.373825  124.764183  1.388719  0.768793\n",
       "0  67350  53.312710  1.348135  1.301964   63.249348  0.579030 -1.965756\n",
       "4  67351  67.696457 -0.475685  1.686518   57.592220 -0.605304 -1.273538\n",
       "6  67352  58.662441  1.239945 -1.022804   77.032257  0.774000  3.035913\n",
       "5  67353  56.497955 -1.359893 -0.560886   62.832787 -0.756951  2.579374"
      ]
     },
     "execution_count": 41,
     "metadata": {},
     "output_type": "execute_result"
    }
   ],
   "source": [
    "genpart_mini.sort_values(by=['event']).head(5)"
   ]
  },
  {
   "cell_type": "markdown",
   "id": "7d41d61a",
   "metadata": {
    "slideshow": {
     "slide_type": "slide"
    }
   },
   "source": [
    "# Change precision"
   ]
  },
  {
   "cell_type": "markdown",
   "id": "aadf0063",
   "metadata": {
    "slideshow": {
     "slide_type": "subslide"
    }
   },
   "source": [
    "* Produce a new NanoAOD tuple changing precison in configuration.\n",
    "\n",
    "* Set precision to 23 (no loss of precision)\n",
    "\n",
    "```python\n",
    "process.genParticleTable.variables = cms.PSet(\n",
    "    pt  = Var(\"pt\", float, precision=23),\n",
    "    phi = Var(\"phi\", float, precision=23),\n",
    "    eta  = Var(\"eta\", float, precision=23),\n",
    "    ...\n",
    "```"
   ]
  },
  {
   "cell_type": "code",
   "execution_count": 33,
   "id": "3a684492",
   "metadata": {
    "slideshow": {
     "slide_type": "skip"
    }
   },
   "outputs": [],
   "source": [
    "nano1 = nanotree1.arrays(filter_name=\"GenPart*\")"
   ]
  },
  {
   "cell_type": "code",
   "execution_count": 34,
   "id": "c50532a2",
   "metadata": {
    "slideshow": {
     "slide_type": "skip"
    }
   },
   "outputs": [],
   "source": [
    "cut_b_1 = (np.abs(nano1.GenPart_pdgId) == 5)\n",
    "mother_b_1 = nano1.GenPart_genPartIdxMother[cut_b_1]\n",
    "cut_mother_b_1 = (nano1.GenPart_pdgId[mother_b_1] == 25)"
   ]
  },
  {
   "cell_type": "code",
   "execution_count": 35,
   "id": "4dcc14d5",
   "metadata": {
    "slideshow": {
     "slide_type": "skip"
    }
   },
   "outputs": [
    {
     "data": {
      "text/plain": [
       "<Array [[5, -5], [5, -5], ... [5, -5], [5, -5]] type='38740 * var * int32'>"
      ]
     },
     "execution_count": 35,
     "metadata": {},
     "output_type": "execute_result"
    }
   ],
   "source": [
    "b_only_1 = nano1[cut_b_1][cut_mother_b_1]\n",
    "b_only_1.GenPart_pdgId"
   ]
  },
  {
   "cell_type": "code",
   "execution_count": 37,
   "id": "951391fc",
   "metadata": {
    "slideshow": {
     "slide_type": "skip"
    }
   },
   "outputs": [],
   "source": [
    "mydict1 = {\n",
    "    \"event\": nanotree1.arrays(\"event\", library=\"np\")[\"event\"],\n",
    "    \"b1_pt\": ak.to_numpy(b_only_1.GenPart_pt[:,0]),\n",
    "    \"b1_eta\": ak.to_numpy(b_only_1.GenPart_eta[:,0]),\n",
    "    \"b1_phi\": ak.to_numpy(b_only_1.GenPart_phi[:,0]),\n",
    "    \"b2_pt\": ak.to_numpy(b_only_1.GenPart_pt[:,1]),\n",
    "    \"b2_eta\": ak.to_numpy(b_only_1.GenPart_eta[:,1]),\n",
    "    \"b2_phi\": ak.to_numpy(b_only_1.GenPart_phi[:,1])\n",
    "}"
   ]
  },
  {
   "cell_type": "markdown",
   "id": "aa4844f2",
   "metadata": {
    "slideshow": {
     "slide_type": "slide"
    }
   },
   "source": [
    "# Compare again"
   ]
  },
  {
   "cell_type": "markdown",
   "id": "302ee1fa",
   "metadata": {
    "slideshow": {
     "slide_type": "fragment"
    }
   },
   "source": [
    "## NanoAOD (no loss of precision)"
   ]
  },
  {
   "cell_type": "code",
   "execution_count": 42,
   "id": "4c6d69e7",
   "metadata": {
    "slideshow": {
     "slide_type": "skip"
    }
   },
   "outputs": [],
   "source": [
    "df1 =  pd.DataFrame.from_dict(mydict1)"
   ]
  },
  {
   "cell_type": "code",
   "execution_count": 43,
   "id": "226ec898",
   "metadata": {
    "slideshow": {
     "slide_type": "fragment"
    }
   },
   "outputs": [
    {
     "data": {
      "text/html": [
       "<div>\n",
       "<style scoped>\n",
       "    .dataframe tbody tr th:only-of-type {\n",
       "        vertical-align: middle;\n",
       "    }\n",
       "\n",
       "    .dataframe tbody tr th {\n",
       "        vertical-align: top;\n",
       "    }\n",
       "\n",
       "    .dataframe thead th {\n",
       "        text-align: right;\n",
       "    }\n",
       "</style>\n",
       "<table border=\"1\" class=\"dataframe\">\n",
       "  <thead>\n",
       "    <tr style=\"text-align: right;\">\n",
       "      <th></th>\n",
       "      <th>event</th>\n",
       "      <th>b1_pt</th>\n",
       "      <th>b1_eta</th>\n",
       "      <th>b1_phi</th>\n",
       "      <th>b2_pt</th>\n",
       "      <th>b2_eta</th>\n",
       "      <th>b2_phi</th>\n",
       "    </tr>\n",
       "  </thead>\n",
       "  <tbody>\n",
       "    <tr>\n",
       "      <th>16</th>\n",
       "      <td>67349</td>\n",
       "      <td>59.162838</td>\n",
       "      <td>1.574972</td>\n",
       "      <td>2.373825</td>\n",
       "      <td>124.764183</td>\n",
       "      <td>1.388719</td>\n",
       "      <td>0.768793</td>\n",
       "    </tr>\n",
       "    <tr>\n",
       "      <th>2</th>\n",
       "      <td>67350</td>\n",
       "      <td>53.312710</td>\n",
       "      <td>1.348135</td>\n",
       "      <td>1.301964</td>\n",
       "      <td>63.249348</td>\n",
       "      <td>0.579030</td>\n",
       "      <td>-1.965756</td>\n",
       "    </tr>\n",
       "    <tr>\n",
       "      <th>6</th>\n",
       "      <td>67351</td>\n",
       "      <td>67.696457</td>\n",
       "      <td>-0.475685</td>\n",
       "      <td>1.686518</td>\n",
       "      <td>57.592220</td>\n",
       "      <td>-0.605304</td>\n",
       "      <td>-1.273539</td>\n",
       "    </tr>\n",
       "    <tr>\n",
       "      <th>5</th>\n",
       "      <td>67352</td>\n",
       "      <td>58.662441</td>\n",
       "      <td>1.239945</td>\n",
       "      <td>-1.022804</td>\n",
       "      <td>77.032257</td>\n",
       "      <td>0.774000</td>\n",
       "      <td>3.035913</td>\n",
       "    </tr>\n",
       "    <tr>\n",
       "      <th>4</th>\n",
       "      <td>67353</td>\n",
       "      <td>56.497955</td>\n",
       "      <td>-1.359894</td>\n",
       "      <td>-0.560886</td>\n",
       "      <td>62.832787</td>\n",
       "      <td>-0.756951</td>\n",
       "      <td>2.579374</td>\n",
       "    </tr>\n",
       "  </tbody>\n",
       "</table>\n",
       "</div>"
      ],
      "text/plain": [
       "    event      b1_pt    b1_eta    b1_phi       b2_pt    b2_eta    b2_phi\n",
       "16  67349  59.162838  1.574972  2.373825  124.764183  1.388719  0.768793\n",
       "2   67350  53.312710  1.348135  1.301964   63.249348  0.579030 -1.965756\n",
       "6   67351  67.696457 -0.475685  1.686518   57.592220 -0.605304 -1.273539\n",
       "5   67352  58.662441  1.239945 -1.022804   77.032257  0.774000  3.035913\n",
       "4   67353  56.497955 -1.359894 -0.560886   62.832787 -0.756951  2.579374"
      ]
     },
     "execution_count": 43,
     "metadata": {},
     "output_type": "execute_result"
    }
   ],
   "source": [
    "df1.sort_values(by=['event']).head(5)"
   ]
  },
  {
   "cell_type": "markdown",
   "id": "f6ceb896",
   "metadata": {
    "slideshow": {
     "slide_type": "fragment"
    }
   },
   "source": [
    "## MiniAOD"
   ]
  },
  {
   "cell_type": "code",
   "execution_count": 44,
   "id": "984b2ec4",
   "metadata": {
    "slideshow": {
     "slide_type": "fragment"
    }
   },
   "outputs": [
    {
     "data": {
      "text/html": [
       "<div>\n",
       "<style scoped>\n",
       "    .dataframe tbody tr th:only-of-type {\n",
       "        vertical-align: middle;\n",
       "    }\n",
       "\n",
       "    .dataframe tbody tr th {\n",
       "        vertical-align: top;\n",
       "    }\n",
       "\n",
       "    .dataframe thead th {\n",
       "        text-align: right;\n",
       "    }\n",
       "</style>\n",
       "<table border=\"1\" class=\"dataframe\">\n",
       "  <thead>\n",
       "    <tr style=\"text-align: right;\">\n",
       "      <th></th>\n",
       "      <th>event</th>\n",
       "      <th>b1_pt</th>\n",
       "      <th>b1_eta</th>\n",
       "      <th>b1_phi</th>\n",
       "      <th>b2_pt</th>\n",
       "      <th>b2_eta</th>\n",
       "      <th>b2_phi</th>\n",
       "    </tr>\n",
       "  </thead>\n",
       "  <tbody>\n",
       "    <tr>\n",
       "      <th>9</th>\n",
       "      <td>67349</td>\n",
       "      <td>59.162838</td>\n",
       "      <td>1.574972</td>\n",
       "      <td>2.373825</td>\n",
       "      <td>124.764183</td>\n",
       "      <td>1.388719</td>\n",
       "      <td>0.768793</td>\n",
       "    </tr>\n",
       "    <tr>\n",
       "      <th>0</th>\n",
       "      <td>67350</td>\n",
       "      <td>53.312710</td>\n",
       "      <td>1.348135</td>\n",
       "      <td>1.301964</td>\n",
       "      <td>63.249348</td>\n",
       "      <td>0.579030</td>\n",
       "      <td>-1.965756</td>\n",
       "    </tr>\n",
       "    <tr>\n",
       "      <th>4</th>\n",
       "      <td>67351</td>\n",
       "      <td>67.696457</td>\n",
       "      <td>-0.475685</td>\n",
       "      <td>1.686518</td>\n",
       "      <td>57.592220</td>\n",
       "      <td>-0.605304</td>\n",
       "      <td>-1.273538</td>\n",
       "    </tr>\n",
       "    <tr>\n",
       "      <th>6</th>\n",
       "      <td>67352</td>\n",
       "      <td>58.662441</td>\n",
       "      <td>1.239945</td>\n",
       "      <td>-1.022804</td>\n",
       "      <td>77.032257</td>\n",
       "      <td>0.774000</td>\n",
       "      <td>3.035913</td>\n",
       "    </tr>\n",
       "    <tr>\n",
       "      <th>5</th>\n",
       "      <td>67353</td>\n",
       "      <td>56.497955</td>\n",
       "      <td>-1.359893</td>\n",
       "      <td>-0.560886</td>\n",
       "      <td>62.832787</td>\n",
       "      <td>-0.756951</td>\n",
       "      <td>2.579374</td>\n",
       "    </tr>\n",
       "  </tbody>\n",
       "</table>\n",
       "</div>"
      ],
      "text/plain": [
       "   event      b1_pt    b1_eta    b1_phi       b2_pt    b2_eta    b2_phi\n",
       "9  67349  59.162838  1.574972  2.373825  124.764183  1.388719  0.768793\n",
       "0  67350  53.312710  1.348135  1.301964   63.249348  0.579030 -1.965756\n",
       "4  67351  67.696457 -0.475685  1.686518   57.592220 -0.605304 -1.273538\n",
       "6  67352  58.662441  1.239945 -1.022804   77.032257  0.774000  3.035913\n",
       "5  67353  56.497955 -1.359893 -0.560886   62.832787 -0.756951  2.579374"
      ]
     },
     "execution_count": 44,
     "metadata": {},
     "output_type": "execute_result"
    }
   ],
   "source": [
    "genpart_mini.sort_values(by=['event']).head(5)"
   ]
  },
  {
   "cell_type": "code",
   "execution_count": null,
   "id": "44a5580c",
   "metadata": {},
   "outputs": [],
   "source": []
  }
 ],
 "metadata": {
  "celltoolbar": "Slideshow",
  "kernelspec": {
   "display_name": "Python 3 (ipykernel)",
   "language": "python",
   "name": "python3"
  },
  "language_info": {
   "codemirror_mode": {
    "name": "ipython",
    "version": 3
   },
   "file_extension": ".py",
   "mimetype": "text/x-python",
   "name": "python",
   "nbconvert_exporter": "python",
   "pygments_lexer": "ipython3",
   "version": "3.9.6"
  }
 },
 "nbformat": 4,
 "nbformat_minor": 5
}
